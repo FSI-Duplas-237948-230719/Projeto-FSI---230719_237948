{
  "nbformat": 4,
  "nbformat_minor": 0,
  "metadata": {
    "colab": {
      "name": "Trabalho FSI - 3",
      "provenance": [],
      "collapsed_sections": []
    },
    "kernelspec": {
      "name": "python3",
      "display_name": "Python 3"
    }
  },
  "cells": [
    {
      "cell_type": "markdown",
      "metadata": {
        "id": "LkhW35PM8h5W",
        "colab_type": "text"
      },
      "source": [
        "# **TRABALHO FUNDAMENTOS DE SISTEMAS DE INFORMAÇÃO - 3**\n"
      ]
    },
    {
      "cell_type": "markdown",
      "metadata": {
        "id": "zXjjd3lH8pMZ",
        "colab_type": "text"
      },
      "source": [
        "Jonatas Goes da Silva   RA: 237948\n",
        "\n",
        "Matheus Eduardo da Silva RA:230719"
      ]
    },
    {
      "cell_type": "markdown",
      "metadata": {
        "id": "gHEEur3qR7x3",
        "colab_type": "text"
      },
      "source": [
        "disponível em: https://www.kaggle.com/andreifnmg/campeonato-braileiro-20092018\n",
        "\n",
        "Site base: https://www.transfermarkt.com.br/"
      ]
    },
    {
      "cell_type": "markdown",
      "metadata": {
        "id": "t2S608l-776m",
        "colab_type": "text"
      },
      "source": [
        "**Roteiro:**\n",
        "\n",
        "1-Escolha uma classe de modelo importando do Scikit.\n",
        "\n",
        "2-Escolha os hiperparâmetros do modelo instanciando a classe escolhida em 1.\n",
        "\n",
        "3-Organize os dados em uma feature matrix e um target array.\n",
        "\n",
        "4-Ajuste o modelo invocando o método fit().\n",
        "\n",
        "5-Aplique o modelo aos novos dados usando predict()."
      ]
    },
    {
      "cell_type": "code",
      "metadata": {
        "id": "ylLC8A10W-w_",
        "colab_type": "code",
        "outputId": "c77d4c08-fcfe-4524-974b-cadf0d213402",
        "colab": {
          "base_uri": "https://localhost:8080/",
          "height": 556
        }
      },
      "source": [
        "import matplotlib.pyplot as plt\n",
        "import numpy as np\n",
        "import pandas as pd\n",
        "import seaborn as sns\n",
        "\n",
        "brReviews = pd.read_csv(\"Tabela_Clubes.csv\")\n",
        "brReviews\n"
      ],
      "execution_count": 1,
      "outputs": [
        {
          "output_type": "stream",
          "text": [
            "/usr/local/lib/python3.6/dist-packages/statsmodels/tools/_testing.py:19: FutureWarning: pandas.util.testing is deprecated. Use the functions in the public API at pandas.testing instead.\n",
            "  import pandas.util.testing as tm\n"
          ],
          "name": "stderr"
        },
        {
          "output_type": "execute_result",
          "data": {
            "text/html": [
              "<div>\n",
              "<style scoped>\n",
              "    .dataframe tbody tr th:only-of-type {\n",
              "        vertical-align: middle;\n",
              "    }\n",
              "\n",
              "    .dataframe tbody tr th {\n",
              "        vertical-align: top;\n",
              "    }\n",
              "\n",
              "    .dataframe thead th {\n",
              "        text-align: right;\n",
              "    }\n",
              "</style>\n",
              "<table border=\"1\" class=\"dataframe\">\n",
              "  <thead>\n",
              "    <tr style=\"text-align: right;\">\n",
              "      <th></th>\n",
              "      <th>Ano</th>\n",
              "      <th>Pos.</th>\n",
              "      <th>Clubes</th>\n",
              "      <th>Vitorias</th>\n",
              "      <th>Derrotas</th>\n",
              "      <th>Empates</th>\n",
              "      <th>GolsF/S</th>\n",
              "      <th>Saldo</th>\n",
              "      <th>Qtd_Jogadores</th>\n",
              "      <th>Idade_Media</th>\n",
              "      <th>Estrangeiros</th>\n",
              "      <th>Valor_total</th>\n",
              "      <th>Media_Valor</th>\n",
              "      <th>Unnamed: 13</th>\n",
              "      <th>Unnamed: 14</th>\n",
              "      <th>Unnamed: 15</th>\n",
              "      <th>Unnamed: 16</th>\n",
              "    </tr>\n",
              "  </thead>\n",
              "  <tbody>\n",
              "    <tr>\n",
              "      <th>0</th>\n",
              "      <td>2017</td>\n",
              "      <td>18</td>\n",
              "      <td>America-MG</td>\n",
              "      <td>10</td>\n",
              "      <td>10</td>\n",
              "      <td>18</td>\n",
              "      <td>30:47</td>\n",
              "      <td>-17</td>\n",
              "      <td>51</td>\n",
              "      <td>24,8</td>\n",
              "      <td>0</td>\n",
              "      <td>27350000</td>\n",
              "      <td>536000</td>\n",
              "      <td>NaN</td>\n",
              "      <td>NaN</td>\n",
              "      <td>NaN</td>\n",
              "      <td>NaN</td>\n",
              "    </tr>\n",
              "    <tr>\n",
              "      <th>1</th>\n",
              "      <td>2017</td>\n",
              "      <td>7</td>\n",
              "      <td>Athletico-PR</td>\n",
              "      <td>16</td>\n",
              "      <td>9</td>\n",
              "      <td>13</td>\n",
              "      <td>54:37</td>\n",
              "      <td>17</td>\n",
              "      <td>52</td>\n",
              "      <td>24</td>\n",
              "      <td>3</td>\n",
              "      <td>37650000</td>\n",
              "      <td>724000</td>\n",
              "      <td>NaN</td>\n",
              "      <td>NaN</td>\n",
              "      <td>NaN</td>\n",
              "      <td>NaN</td>\n",
              "    </tr>\n",
              "    <tr>\n",
              "      <th>2</th>\n",
              "      <td>2017</td>\n",
              "      <td>6</td>\n",
              "      <td>Atletico-MG</td>\n",
              "      <td>17</td>\n",
              "      <td>8</td>\n",
              "      <td>13</td>\n",
              "      <td>56:43</td>\n",
              "      <td>13</td>\n",
              "      <td>50</td>\n",
              "      <td>23,4</td>\n",
              "      <td>6</td>\n",
              "      <td>61350000</td>\n",
              "      <td>1230000</td>\n",
              "      <td>NaN</td>\n",
              "      <td>NaN</td>\n",
              "      <td>NaN</td>\n",
              "      <td>NaN</td>\n",
              "    </tr>\n",
              "    <tr>\n",
              "      <th>3</th>\n",
              "      <td>2017</td>\n",
              "      <td>11</td>\n",
              "      <td>Bahia</td>\n",
              "      <td>12</td>\n",
              "      <td>12</td>\n",
              "      <td>14</td>\n",
              "      <td>39:41</td>\n",
              "      <td>-2</td>\n",
              "      <td>48</td>\n",
              "      <td>23,2</td>\n",
              "      <td>2</td>\n",
              "      <td>34900000</td>\n",
              "      <td>727000</td>\n",
              "      <td>NaN</td>\n",
              "      <td>NaN</td>\n",
              "      <td>NaN</td>\n",
              "      <td>NaN</td>\n",
              "    </tr>\n",
              "    <tr>\n",
              "      <th>4</th>\n",
              "      <td>2017</td>\n",
              "      <td>9</td>\n",
              "      <td>Botafogo</td>\n",
              "      <td>13</td>\n",
              "      <td>12</td>\n",
              "      <td>13</td>\n",
              "      <td>38:46</td>\n",
              "      <td>-8</td>\n",
              "      <td>45</td>\n",
              "      <td>23,1</td>\n",
              "      <td>4</td>\n",
              "      <td>25550000</td>\n",
              "      <td>568000</td>\n",
              "      <td>NaN</td>\n",
              "      <td>NaN</td>\n",
              "      <td>NaN</td>\n",
              "      <td>NaN</td>\n",
              "    </tr>\n",
              "    <tr>\n",
              "      <th>...</th>\n",
              "      <td>...</td>\n",
              "      <td>...</td>\n",
              "      <td>...</td>\n",
              "      <td>...</td>\n",
              "      <td>...</td>\n",
              "      <td>...</td>\n",
              "      <td>...</td>\n",
              "      <td>...</td>\n",
              "      <td>...</td>\n",
              "      <td>...</td>\n",
              "      <td>...</td>\n",
              "      <td>...</td>\n",
              "      <td>...</td>\n",
              "      <td>...</td>\n",
              "      <td>...</td>\n",
              "      <td>...</td>\n",
              "      <td>...</td>\n",
              "    </tr>\n",
              "    <tr>\n",
              "      <th>195</th>\n",
              "      <td>2008</td>\n",
              "      <td>18</td>\n",
              "      <td>Santo Andre</td>\n",
              "      <td>11</td>\n",
              "      <td>8</td>\n",
              "      <td>19</td>\n",
              "      <td>46:61</td>\n",
              "      <td>-15</td>\n",
              "      <td>43</td>\n",
              "      <td>25,1</td>\n",
              "      <td>3</td>\n",
              "      <td>6230000</td>\n",
              "      <td>145000</td>\n",
              "      <td>NaN</td>\n",
              "      <td>NaN</td>\n",
              "      <td>NaN</td>\n",
              "      <td>NaN</td>\n",
              "    </tr>\n",
              "    <tr>\n",
              "      <th>196</th>\n",
              "      <td>2008</td>\n",
              "      <td>12</td>\n",
              "      <td>Santos</td>\n",
              "      <td>12</td>\n",
              "      <td>13</td>\n",
              "      <td>13</td>\n",
              "      <td>58:58</td>\n",
              "      <td>0</td>\n",
              "      <td>33</td>\n",
              "      <td>23,9</td>\n",
              "      <td>1</td>\n",
              "      <td>27850000</td>\n",
              "      <td>844000</td>\n",
              "      <td>NaN</td>\n",
              "      <td>NaN</td>\n",
              "      <td>NaN</td>\n",
              "      <td>NaN</td>\n",
              "    </tr>\n",
              "    <tr>\n",
              "      <th>197</th>\n",
              "      <td>2008</td>\n",
              "      <td>3</td>\n",
              "      <td>Sao Paulo</td>\n",
              "      <td>18</td>\n",
              "      <td>11</td>\n",
              "      <td>9</td>\n",
              "      <td>57:42</td>\n",
              "      <td>15</td>\n",
              "      <td>30</td>\n",
              "      <td>23,9</td>\n",
              "      <td>1</td>\n",
              "      <td>46650000</td>\n",
              "      <td>1560000</td>\n",
              "      <td>NaN</td>\n",
              "      <td>NaN</td>\n",
              "      <td>NaN</td>\n",
              "      <td>NaN</td>\n",
              "    </tr>\n",
              "    <tr>\n",
              "      <th>198</th>\n",
              "      <td>2008</td>\n",
              "      <td>20</td>\n",
              "      <td>Sport</td>\n",
              "      <td>7</td>\n",
              "      <td>10</td>\n",
              "      <td>21</td>\n",
              "      <td>48:71</td>\n",
              "      <td>-23</td>\n",
              "      <td>30</td>\n",
              "      <td>25</td>\n",
              "      <td>1</td>\n",
              "      <td>15600000</td>\n",
              "      <td>520000</td>\n",
              "      <td>NaN</td>\n",
              "      <td>NaN</td>\n",
              "      <td>NaN</td>\n",
              "      <td>NaN</td>\n",
              "    </tr>\n",
              "    <tr>\n",
              "      <th>199</th>\n",
              "      <td>2008</td>\n",
              "      <td>13</td>\n",
              "      <td>Vitoria</td>\n",
              "      <td>13</td>\n",
              "      <td>9</td>\n",
              "      <td>16</td>\n",
              "      <td>51:57</td>\n",
              "      <td>-6</td>\n",
              "      <td>38</td>\n",
              "      <td>24,1</td>\n",
              "      <td>2</td>\n",
              "      <td>13450000</td>\n",
              "      <td>354000</td>\n",
              "      <td>NaN</td>\n",
              "      <td>NaN</td>\n",
              "      <td>NaN</td>\n",
              "      <td>NaN</td>\n",
              "    </tr>\n",
              "  </tbody>\n",
              "</table>\n",
              "<p>200 rows × 17 columns</p>\n",
              "</div>"
            ],
            "text/plain": [
              "      Ano  Pos.        Clubes  ...  Unnamed: 14  Unnamed: 15  Unnamed: 16\n",
              "0    2017    18    America-MG  ...          NaN          NaN          NaN\n",
              "1    2017     7  Athletico-PR  ...          NaN          NaN          NaN\n",
              "2    2017     6   Atletico-MG  ...          NaN          NaN          NaN\n",
              "3    2017    11         Bahia  ...          NaN          NaN          NaN\n",
              "4    2017     9      Botafogo  ...          NaN          NaN          NaN\n",
              "..    ...   ...           ...  ...          ...          ...          ...\n",
              "195  2008    18   Santo Andre  ...          NaN          NaN          NaN\n",
              "196  2008    12        Santos  ...          NaN          NaN          NaN\n",
              "197  2008     3     Sao Paulo  ...          NaN          NaN          NaN\n",
              "198  2008    20         Sport  ...          NaN          NaN          NaN\n",
              "199  2008    13       Vitoria  ...          NaN          NaN          NaN\n",
              "\n",
              "[200 rows x 17 columns]"
            ]
          },
          "metadata": {
            "tags": []
          },
          "execution_count": 1
        }
      ]
    },
    {
      "cell_type": "markdown",
      "metadata": {
        "id": "AexVcohdvpeR",
        "colab_type": "text"
      },
      "source": [
        "Retiramos as ultimas 3 colunas sem informação e adicionamos mais uma coluna com a classificação para libertadores\n",
        "\n",
        "\n",
        "\n",
        "---\n",
        "\n"
      ]
    },
    {
      "cell_type": "code",
      "metadata": {
        "id": "Xfj1Jlg155rb",
        "colab_type": "code",
        "colab": {}
      },
      "source": [
        "brReviews = brReviews.drop(columns=['Unnamed: 13', 'Unnamed: 14', 'Unnamed: 15', 'Unnamed: 16'])"
      ],
      "execution_count": 0,
      "outputs": []
    },
    {
      "cell_type": "code",
      "metadata": {
        "id": "P64WbGDdQE8X",
        "colab_type": "code",
        "outputId": "f7b0058e-9927-4af7-a184-454ed2e1685c",
        "colab": {
          "base_uri": "https://localhost:8080/",
          "height": 506
        }
      },
      "source": [
        "brReviews['Pontos'] = brReviews['Vitorias']*3 + brReviews['Empates']\n",
        "brReviews['libertadores'] = False\n",
        "brReviews.loc[[9,11,12,13,27,32,33,35,42,49,53,56,61,64,71,77,85,88,94,97,100,103,107,111,121,129,130,137,148,152,153,159,166,167,169,171,186,187,191,197], ['libertadores']] = True\n",
        "brReviews"
      ],
      "execution_count": 3,
      "outputs": [
        {
          "output_type": "execute_result",
          "data": {
            "text/html": [
              "<div>\n",
              "<style scoped>\n",
              "    .dataframe tbody tr th:only-of-type {\n",
              "        vertical-align: middle;\n",
              "    }\n",
              "\n",
              "    .dataframe tbody tr th {\n",
              "        vertical-align: top;\n",
              "    }\n",
              "\n",
              "    .dataframe thead th {\n",
              "        text-align: right;\n",
              "    }\n",
              "</style>\n",
              "<table border=\"1\" class=\"dataframe\">\n",
              "  <thead>\n",
              "    <tr style=\"text-align: right;\">\n",
              "      <th></th>\n",
              "      <th>Ano</th>\n",
              "      <th>Pos.</th>\n",
              "      <th>Clubes</th>\n",
              "      <th>Vitorias</th>\n",
              "      <th>Derrotas</th>\n",
              "      <th>Empates</th>\n",
              "      <th>GolsF/S</th>\n",
              "      <th>Saldo</th>\n",
              "      <th>Qtd_Jogadores</th>\n",
              "      <th>Idade_Media</th>\n",
              "      <th>Estrangeiros</th>\n",
              "      <th>Valor_total</th>\n",
              "      <th>Media_Valor</th>\n",
              "      <th>Pontos</th>\n",
              "      <th>libertadores</th>\n",
              "    </tr>\n",
              "  </thead>\n",
              "  <tbody>\n",
              "    <tr>\n",
              "      <th>0</th>\n",
              "      <td>2017</td>\n",
              "      <td>18</td>\n",
              "      <td>America-MG</td>\n",
              "      <td>10</td>\n",
              "      <td>10</td>\n",
              "      <td>18</td>\n",
              "      <td>30:47</td>\n",
              "      <td>-17</td>\n",
              "      <td>51</td>\n",
              "      <td>24,8</td>\n",
              "      <td>0</td>\n",
              "      <td>27350000</td>\n",
              "      <td>536000</td>\n",
              "      <td>48</td>\n",
              "      <td>False</td>\n",
              "    </tr>\n",
              "    <tr>\n",
              "      <th>1</th>\n",
              "      <td>2017</td>\n",
              "      <td>7</td>\n",
              "      <td>Athletico-PR</td>\n",
              "      <td>16</td>\n",
              "      <td>9</td>\n",
              "      <td>13</td>\n",
              "      <td>54:37</td>\n",
              "      <td>17</td>\n",
              "      <td>52</td>\n",
              "      <td>24</td>\n",
              "      <td>3</td>\n",
              "      <td>37650000</td>\n",
              "      <td>724000</td>\n",
              "      <td>61</td>\n",
              "      <td>False</td>\n",
              "    </tr>\n",
              "    <tr>\n",
              "      <th>2</th>\n",
              "      <td>2017</td>\n",
              "      <td>6</td>\n",
              "      <td>Atletico-MG</td>\n",
              "      <td>17</td>\n",
              "      <td>8</td>\n",
              "      <td>13</td>\n",
              "      <td>56:43</td>\n",
              "      <td>13</td>\n",
              "      <td>50</td>\n",
              "      <td>23,4</td>\n",
              "      <td>6</td>\n",
              "      <td>61350000</td>\n",
              "      <td>1230000</td>\n",
              "      <td>64</td>\n",
              "      <td>False</td>\n",
              "    </tr>\n",
              "    <tr>\n",
              "      <th>3</th>\n",
              "      <td>2017</td>\n",
              "      <td>11</td>\n",
              "      <td>Bahia</td>\n",
              "      <td>12</td>\n",
              "      <td>12</td>\n",
              "      <td>14</td>\n",
              "      <td>39:41</td>\n",
              "      <td>-2</td>\n",
              "      <td>48</td>\n",
              "      <td>23,2</td>\n",
              "      <td>2</td>\n",
              "      <td>34900000</td>\n",
              "      <td>727000</td>\n",
              "      <td>50</td>\n",
              "      <td>False</td>\n",
              "    </tr>\n",
              "    <tr>\n",
              "      <th>4</th>\n",
              "      <td>2017</td>\n",
              "      <td>9</td>\n",
              "      <td>Botafogo</td>\n",
              "      <td>13</td>\n",
              "      <td>12</td>\n",
              "      <td>13</td>\n",
              "      <td>38:46</td>\n",
              "      <td>-8</td>\n",
              "      <td>45</td>\n",
              "      <td>23,1</td>\n",
              "      <td>4</td>\n",
              "      <td>25550000</td>\n",
              "      <td>568000</td>\n",
              "      <td>52</td>\n",
              "      <td>False</td>\n",
              "    </tr>\n",
              "    <tr>\n",
              "      <th>...</th>\n",
              "      <td>...</td>\n",
              "      <td>...</td>\n",
              "      <td>...</td>\n",
              "      <td>...</td>\n",
              "      <td>...</td>\n",
              "      <td>...</td>\n",
              "      <td>...</td>\n",
              "      <td>...</td>\n",
              "      <td>...</td>\n",
              "      <td>...</td>\n",
              "      <td>...</td>\n",
              "      <td>...</td>\n",
              "      <td>...</td>\n",
              "      <td>...</td>\n",
              "      <td>...</td>\n",
              "    </tr>\n",
              "    <tr>\n",
              "      <th>195</th>\n",
              "      <td>2008</td>\n",
              "      <td>18</td>\n",
              "      <td>Santo Andre</td>\n",
              "      <td>11</td>\n",
              "      <td>8</td>\n",
              "      <td>19</td>\n",
              "      <td>46:61</td>\n",
              "      <td>-15</td>\n",
              "      <td>43</td>\n",
              "      <td>25,1</td>\n",
              "      <td>3</td>\n",
              "      <td>6230000</td>\n",
              "      <td>145000</td>\n",
              "      <td>52</td>\n",
              "      <td>False</td>\n",
              "    </tr>\n",
              "    <tr>\n",
              "      <th>196</th>\n",
              "      <td>2008</td>\n",
              "      <td>12</td>\n",
              "      <td>Santos</td>\n",
              "      <td>12</td>\n",
              "      <td>13</td>\n",
              "      <td>13</td>\n",
              "      <td>58:58</td>\n",
              "      <td>0</td>\n",
              "      <td>33</td>\n",
              "      <td>23,9</td>\n",
              "      <td>1</td>\n",
              "      <td>27850000</td>\n",
              "      <td>844000</td>\n",
              "      <td>49</td>\n",
              "      <td>False</td>\n",
              "    </tr>\n",
              "    <tr>\n",
              "      <th>197</th>\n",
              "      <td>2008</td>\n",
              "      <td>3</td>\n",
              "      <td>Sao Paulo</td>\n",
              "      <td>18</td>\n",
              "      <td>11</td>\n",
              "      <td>9</td>\n",
              "      <td>57:42</td>\n",
              "      <td>15</td>\n",
              "      <td>30</td>\n",
              "      <td>23,9</td>\n",
              "      <td>1</td>\n",
              "      <td>46650000</td>\n",
              "      <td>1560000</td>\n",
              "      <td>63</td>\n",
              "      <td>True</td>\n",
              "    </tr>\n",
              "    <tr>\n",
              "      <th>198</th>\n",
              "      <td>2008</td>\n",
              "      <td>20</td>\n",
              "      <td>Sport</td>\n",
              "      <td>7</td>\n",
              "      <td>10</td>\n",
              "      <td>21</td>\n",
              "      <td>48:71</td>\n",
              "      <td>-23</td>\n",
              "      <td>30</td>\n",
              "      <td>25</td>\n",
              "      <td>1</td>\n",
              "      <td>15600000</td>\n",
              "      <td>520000</td>\n",
              "      <td>42</td>\n",
              "      <td>False</td>\n",
              "    </tr>\n",
              "    <tr>\n",
              "      <th>199</th>\n",
              "      <td>2008</td>\n",
              "      <td>13</td>\n",
              "      <td>Vitoria</td>\n",
              "      <td>13</td>\n",
              "      <td>9</td>\n",
              "      <td>16</td>\n",
              "      <td>51:57</td>\n",
              "      <td>-6</td>\n",
              "      <td>38</td>\n",
              "      <td>24,1</td>\n",
              "      <td>2</td>\n",
              "      <td>13450000</td>\n",
              "      <td>354000</td>\n",
              "      <td>55</td>\n",
              "      <td>False</td>\n",
              "    </tr>\n",
              "  </tbody>\n",
              "</table>\n",
              "<p>200 rows × 15 columns</p>\n",
              "</div>"
            ],
            "text/plain": [
              "      Ano  Pos.        Clubes  ...  Media_Valor  Pontos  libertadores\n",
              "0    2017    18    America-MG  ...       536000      48         False\n",
              "1    2017     7  Athletico-PR  ...       724000      61         False\n",
              "2    2017     6   Atletico-MG  ...      1230000      64         False\n",
              "3    2017    11         Bahia  ...       727000      50         False\n",
              "4    2017     9      Botafogo  ...       568000      52         False\n",
              "..    ...   ...           ...  ...          ...     ...           ...\n",
              "195  2008    18   Santo Andre  ...       145000      52         False\n",
              "196  2008    12        Santos  ...       844000      49         False\n",
              "197  2008     3     Sao Paulo  ...      1560000      63          True\n",
              "198  2008    20         Sport  ...       520000      42         False\n",
              "199  2008    13       Vitoria  ...       354000      55         False\n",
              "\n",
              "[200 rows x 15 columns]"
            ]
          },
          "metadata": {
            "tags": []
          },
          "execution_count": 3
        }
      ]
    },
    {
      "cell_type": "markdown",
      "metadata": {
        "id": "QQUvVM9LCI39",
        "colab_type": "text"
      },
      "source": [
        "pontuação dos clubes nas edições"
      ]
    },
    {
      "cell_type": "code",
      "metadata": {
        "id": "wXz6Ss419iGQ",
        "colab_type": "code",
        "colab": {
          "base_uri": "https://localhost:8080/",
          "height": 296
        },
        "outputId": "5c5f6197-6940-4dd4-8c79-2e6d1b7f3d16"
      },
      "source": [
        "sns.countplot(x = brReviews.head(40)['Pontos'])"
      ],
      "execution_count": 11,
      "outputs": [
        {
          "output_type": "execute_result",
          "data": {
            "text/plain": [
              "<matplotlib.axes._subplots.AxesSubplot at 0x7f8cc886a160>"
            ]
          },
          "metadata": {
            "tags": []
          },
          "execution_count": 11
        },
        {
          "output_type": "display_data",
          "data": {
            "image/png": "[encoded data removed]",
            "text/plain": [
              "<Figure size 432x288 with 1 Axes>"
            ]
          },
          "metadata": {
            "tags": [],
            "needs_background": "light"
          }
        }
      ]
    },
    {
      "cell_type": "markdown",
      "metadata": {
        "id": "rD9zPbvoBuVG",
        "colab_type": "text"
      },
      "source": [
        "Criando de uma descrição"
      ]
    },
    {
      "cell_type": "code",
      "metadata": {
        "id": "NlEmYIBA_Et9",
        "colab_type": "code",
        "colab": {}
      },
      "source": [
        "def get_description(row):\n",
        "    if row.Pontos < 50:\n",
        "        return 'até 50 pts'\n",
        "    elif row.Pontos <= 65:\n",
        "        return 'até 65 pts'\n",
        "    return 'mais de 65 pts'\n",
        "\n",
        "brReviews['Description'] = brReviews.apply(get_description, axis=1)"
      ],
      "execution_count": 0,
      "outputs": []
    },
    {
      "cell_type": "code",
      "metadata": {
        "id": "gF4lbMgaAnjc",
        "colab_type": "code",
        "colab": {
          "base_uri": "https://localhost:8080/",
          "height": 264
        },
        "outputId": "3fde6e91-c32c-44a5-d000-535f31b41883"
      },
      "source": [
        "brReviews['Description'] = brReviews.apply(get_description, axis=1)\n",
        "brReviews.Description.value_counts().plot(kind='pie', autopct='%.1f%%')\n",
        "plt.title('Pontuação do Clubes - 2008/2018')\n",
        "plt.show()"
      ],
      "execution_count": 26,
      "outputs": [
        {
          "output_type": "display_data",
          "data": {
            "image/png": "[encoded data removed]",
            "text/plain": [
              "<Figure size 432x288 with 1 Axes>"
            ]
          },
          "metadata": {
            "tags": []
          }
        }
      ]
    },
    {
      "cell_type": "code",
      "metadata": {
        "id": "VDyzUA1D9rns",
        "colab_type": "code",
        "colab": {
          "base_uri": "https://localhost:8080/",
          "height": 439
        },
        "outputId": "fb764431-2f72-45a2-e47e-5c5af12469e2"
      },
      "source": [
        "relegation_map = {0: ' Não classificado ', 1: 'classificado para libertadores'}\n",
        "sns.factorplot('libertadores', data=brReviews, hue='Description', kind='count').set_xticklabels(relegation_map.values())"
      ],
      "execution_count": 23,
      "outputs": [
        {
          "output_type": "stream",
          "text": [
            "/usr/local/lib/python3.6/dist-packages/seaborn/categorical.py:3666: UserWarning: The `factorplot` function has been renamed to `catplot`. The original name will be removed in a future release. Please update your code. Note that the default `kind` in `factorplot` (`'point'`) has changed `'strip'` in `catplot`.\n",
            "  warnings.warn(msg)\n"
          ],
          "name": "stderr"
        },
        {
          "output_type": "execute_result",
          "data": {
            "text/plain": [
              "<seaborn.axisgrid.FacetGrid at 0x7f8cc84e8940>"
            ]
          },
          "metadata": {
            "tags": []
          },
          "execution_count": 23
        },
        {
          "output_type": "display_data",
          "data": {
            "image/png": "[encoded data removed]",
            "text/plain": [
              "<Figure size 469.875x360 with 1 Axes>"
            ]
          },
          "metadata": {
            "tags": [],
            "needs_background": "light"
          }
        }
      ]
    },
    {
      "cell_type": "markdown",
      "metadata": {
        "id": "IWyF9sOKy0ah",
        "colab_type": "text"
      },
      "source": [
        "o modelo de aprendizado foi o supervisionado e os hiperparametros foram: pontos, estrangeiros,valor total \n"
      ]
    },
    {
      "cell_type": "code",
      "metadata": {
        "id": "Qi1u2NjvQkAK",
        "colab_type": "code",
        "colab": {}
      },
      "source": [
        "from sklearn.naive_bayes import GaussianNB # 1. Escolha do modelo.\n",
        "model_bayes = GaussianNB()                 # 2. Escolha dos hiperparâmetros e instanciação."
      ],
      "execution_count": 0,
      "outputs": []
    },
    {
      "cell_type": "code",
      "metadata": {
        "id": "aCk56_cuQoP4",
        "colab_type": "code",
        "outputId": "8151dd72-25ed-4605-ae6b-8559b6224c05",
        "colab": {
          "base_uri": "https://localhost:8080/",
          "height": 195
        }
      },
      "source": [
        "# 3.1 Feature Matrix\n",
        "X_brReviews = brReviews.loc[: , [ \"Pontos\", \"Estrangeiros\", \"Valor_total\"] ]\n",
        "X_brReviews.head()"
      ],
      "execution_count": 0,
      "outputs": [
        {
          "output_type": "execute_result",
          "data": {
            "text/html": [
              "<div>\n",
              "<style scoped>\n",
              "    .dataframe tbody tr th:only-of-type {\n",
              "        vertical-align: middle;\n",
              "    }\n",
              "\n",
              "    .dataframe tbody tr th {\n",
              "        vertical-align: top;\n",
              "    }\n",
              "\n",
              "    .dataframe thead th {\n",
              "        text-align: right;\n",
              "    }\n",
              "</style>\n",
              "<table border=\"1\" class=\"dataframe\">\n",
              "  <thead>\n",
              "    <tr style=\"text-align: right;\">\n",
              "      <th></th>\n",
              "      <th>Pontos</th>\n",
              "      <th>Estrangeiros</th>\n",
              "      <th>Valor_total</th>\n",
              "    </tr>\n",
              "  </thead>\n",
              "  <tbody>\n",
              "    <tr>\n",
              "      <th>0</th>\n",
              "      <td>48</td>\n",
              "      <td>0</td>\n",
              "      <td>27350000</td>\n",
              "    </tr>\n",
              "    <tr>\n",
              "      <th>1</th>\n",
              "      <td>61</td>\n",
              "      <td>3</td>\n",
              "      <td>37650000</td>\n",
              "    </tr>\n",
              "    <tr>\n",
              "      <th>2</th>\n",
              "      <td>64</td>\n",
              "      <td>6</td>\n",
              "      <td>61350000</td>\n",
              "    </tr>\n",
              "    <tr>\n",
              "      <th>3</th>\n",
              "      <td>50</td>\n",
              "      <td>2</td>\n",
              "      <td>34900000</td>\n",
              "    </tr>\n",
              "    <tr>\n",
              "      <th>4</th>\n",
              "      <td>52</td>\n",
              "      <td>4</td>\n",
              "      <td>25550000</td>\n",
              "    </tr>\n",
              "  </tbody>\n",
              "</table>\n",
              "</div>"
            ],
            "text/plain": [
              "   Pontos  Estrangeiros  Valor_total\n",
              "0      48             0     27350000\n",
              "1      61             3     37650000\n",
              "2      64             6     61350000\n",
              "3      50             2     34900000\n",
              "4      52             4     25550000"
            ]
          },
          "metadata": {
            "tags": []
          },
          "execution_count": 39
        }
      ]
    },
    {
      "cell_type": "markdown",
      "metadata": {
        "id": "rF180Wliy-7P",
        "colab_type": "text"
      },
      "source": [
        "Fase de aprendizado da maquina"
      ]
    },
    {
      "cell_type": "code",
      "metadata": {
        "id": "No-L2ktoQrXa",
        "colab_type": "code",
        "outputId": "0add5378-35ec-442f-81d4-d2c7eef3b9a3",
        "colab": {
          "base_uri": "https://localhost:8080/",
          "height": 118
        }
      },
      "source": [
        "# 3.2 Target Array\n",
        "y_brReviews = brReviews.libertadores\n",
        "y_brReviews.head()"
      ],
      "execution_count": 0,
      "outputs": [
        {
          "output_type": "execute_result",
          "data": {
            "text/plain": [
              "0    False\n",
              "1    False\n",
              "2    False\n",
              "3    False\n",
              "4    False\n",
              "Name: libertadores, dtype: bool"
            ]
          },
          "metadata": {
            "tags": []
          },
          "execution_count": 40
        }
      ]
    },
    {
      "cell_type": "markdown",
      "metadata": {
        "id": "IfXVKBixzGBR",
        "colab_type": "text"
      },
      "source": [
        "Separação do banco de dados"
      ]
    },
    {
      "cell_type": "code",
      "metadata": {
        "id": "UbfcYTn7QuRk",
        "colab_type": "code",
        "colab": {}
      },
      "source": [
        "# 3.3 Separação do Banco de Dados\n",
        "from sklearn.model_selection import train_test_split\n",
        "Xtrain, Xtest, ytrain, ytest = train_test_split(X_brReviews, y_brReviews, random_state=1819)"
      ],
      "execution_count": 0,
      "outputs": []
    },
    {
      "cell_type": "markdown",
      "metadata": {
        "id": "zXneOeB7zV9I",
        "colab_type": "text"
      },
      "source": [
        " Ajuste o modelo aos dados"
      ]
    },
    {
      "cell_type": "code",
      "metadata": {
        "id": "j6v5ZcG0QzRQ",
        "colab_type": "code",
        "outputId": "582c9691-6145-466b-a252-6de98ec925d5",
        "colab": {
          "base_uri": "https://localhost:8080/",
          "height": 34
        }
      },
      "source": [
        "\n",
        "model_bayes.fit(Xtrain, ytrain)"
      ],
      "execution_count": 0,
      "outputs": [
        {
          "output_type": "execute_result",
          "data": {
            "text/plain": [
              "GaussianNB(priors=None, var_smoothing=1e-09)"
            ]
          },
          "metadata": {
            "tags": []
          },
          "execution_count": 42
        }
      ]
    },
    {
      "cell_type": "markdown",
      "metadata": {
        "id": "TgWv8ixqzZ8Q",
        "colab_type": "text"
      },
      "source": [
        "Faça predições em dados novos"
      ]
    },
    {
      "cell_type": "code",
      "metadata": {
        "id": "qBTuHDSMQ04U",
        "colab_type": "code",
        "colab": {}
      },
      "source": [
        "\n",
        "y_model_bayes = model_bayes.predict(Xtest)"
      ],
      "execution_count": 0,
      "outputs": []
    },
    {
      "cell_type": "code",
      "metadata": {
        "id": "IFKW0qMSQ2g5",
        "colab_type": "code",
        "outputId": "e4839805-d5f4-48d4-ad63-2122088d7c2b",
        "colab": {
          "base_uri": "https://localhost:8080/",
          "height": 118
        }
      },
      "source": [
        "y_model_bayes"
      ],
      "execution_count": 0,
      "outputs": [
        {
          "output_type": "execute_result",
          "data": {
            "text/plain": [
              "array([False, False,  True, False, False, False, False, False, False,\n",
              "       False, False, False, False, False, False, False, False,  True,\n",
              "       False, False,  True, False, False, False, False, False, False,\n",
              "       False, False, False, False,  True, False, False, False, False,\n",
              "       False, False, False, False, False, False, False, False, False,\n",
              "       False,  True, False, False, False])"
            ]
          },
          "metadata": {
            "tags": []
          },
          "execution_count": 44
        }
      ]
    },
    {
      "cell_type": "code",
      "metadata": {
        "id": "X86yuMnJQ4gd",
        "colab_type": "code",
        "outputId": "c2a93411-44cc-4674-d418-52d88b1d0edf",
        "colab": {
          "base_uri": "https://localhost:8080/",
          "height": 34
        }
      },
      "source": [
        "from sklearn.metrics import accuracy_score\n",
        "accuracy_score(ytest, y_model_bayes)"
      ],
      "execution_count": 0,
      "outputs": [
        {
          "output_type": "execute_result",
          "data": {
            "text/plain": [
              "0.84"
            ]
          },
          "metadata": {
            "tags": []
          },
          "execution_count": 45
        }
      ]
    },
    {
      "cell_type": "code",
      "metadata": {
        "id": "cM5QtO-1_-5f",
        "colab_type": "code",
        "colab": {}
      },
      "source": [
        "from sklearn.metrics import confusion_matrix\n",
        "\n",
        "mat_bayes = confusion_matrix(ytest, y_model_bayes) "
      ],
      "execution_count": 0,
      "outputs": []
    },
    {
      "cell_type": "code",
      "metadata": {
        "id": "QSnwIjdQABu6",
        "colab_type": "code",
        "outputId": "813cf12a-a053-4b6f-a7bb-7ec8db2df4f3",
        "colab": {
          "base_uri": "https://localhost:8080/",
          "height": 296
        }
      },
      "source": [
        "import matplotlib.pyplot as plt\n",
        "\n",
        "sns.heatmap(mat_bayes, square=True, annot = True)\n",
        "plt.xlabel('Valores Preditos')\n",
        "plt.ylabel('Valores Reais')"
      ],
      "execution_count": 0,
      "outputs": [
        {
          "output_type": "execute_result",
          "data": {
            "text/plain": [
              "Text(83.40000000000006, 0.5, 'Valores Reais')"
            ]
          },
          "metadata": {
            "tags": []
          },
          "execution_count": 47
        },
        {
          "output_type": "display_data",
          "data": {
            "image/png": "[encoded data removed]",
            "text/plain": [
              "<Figure size 432x288 with 2 Axes>"
            ]
          },
          "metadata": {
            "tags": [],
            "needs_background": "light"
          }
        }
      ]
    }
  ]
}